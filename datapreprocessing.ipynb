{
 "cells": [
  {
   "cell_type": "code",
   "execution_count": 2,
   "metadata": {},
   "outputs": [],
   "source": [
    "import numpy as np\n",
    "import pandas as pd\n",
    "import os\n",
    "\n"
   ]
  },
  {
   "cell_type": "code",
   "execution_count": 10,
   "metadata": {},
   "outputs": [
    {
     "name": "stdout",
     "output_type": "stream",
     "text": [
      "Requirement already satisfied: openpyxl in c:\\users\\msi\\documents\\unibamberg\\ss2024\\vis-proj\\project\\.venv\\lib\\site-packages (3.1.4)\n",
      "Requirement already satisfied: et-xmlfile in c:\\users\\msi\\documents\\unibamberg\\ss2024\\vis-proj\\project\\.venv\\lib\\site-packages (from openpyxl) (1.1.0)\n",
      "Note: you may need to restart the kernel to use updated packages.\n"
     ]
    },
    {
     "name": "stderr",
     "output_type": "stream",
     "text": [
      "\n",
      "[notice] A new release of pip is available: 24.0 -> 24.1\n",
      "[notice] To update, run: python.exe -m pip install --upgrade pip\n"
     ]
    }
   ],
   "source": [
    "pip install openpyxl"
   ]
  },
  {
   "cell_type": "code",
   "execution_count": 8,
   "metadata": {},
   "outputs": [],
   "source": [
    "\n",
    "country_to_continent = {\n",
    "    'Algeria': 'Africa',\n",
    "    'Argentina': 'South America',\n",
    "    'Australia': 'Oceania',\n",
    "    'Austria': 'Europe',\n",
    "    'Bahrain': 'Asia',\n",
    "    'Belarus': 'Europe',\n",
    "    'Belgium': 'Europe',\n",
    "    'Botswana': 'Africa',\n",
    "    'Brazil': 'South America',\n",
    "    'Bulgaria': 'Europe',\n",
    "    'Canada': 'North America',\n",
    "    'Chile': 'South America',\n",
    "    'China': 'Asia',\n",
    "    'Colombia': 'South America',\n",
    "    'Congo, Rep.': 'Africa',\n",
    "    'Costa Rica': 'North America',\n",
    "    'Cyprus': 'Asia',\n",
    "    'Czech Republic': 'Europe',\n",
    "    'Denmark': 'Europe',\n",
    "    'Egypt, Arab Rep.': 'Africa',\n",
    "    'Estonia': 'Europe',\n",
    "    'Finland': 'Europe',\n",
    "    'France': 'Europe',\n",
    "    'Germany': 'Europe',\n",
    "    'Greece': 'Europe',\n",
    "    'Hong Kong, China': 'Asia',\n",
    "    'Hungary': 'Europe',\n",
    "    'Iceland': 'Europe',\n",
    "    'India': 'Asia',\n",
    "    'Ireland': 'Europe',\n",
    "    'Israel': 'Asia',\n",
    "    'Italy': 'Europe',\n",
    "    'Japan': 'Asia',\n",
    "    'Kazakhstan': 'Asia',\n",
    "    'Kenya': 'Africa',\n",
    "    'Korea, Rep.': 'Asia',\n",
    "    'Kuwait': 'Asia',\n",
    "    'Lebanon': 'Asia',\n",
    "    'Malaysia': 'Asia',\n",
    "    'Mexico': 'North America',\n",
    "    'Morocco': 'Africa',\n",
    "    'Mozambique': 'Africa',\n",
    "    'Nepal': 'Asia',\n",
    "    'Netherlands': 'Europe',\n",
    "    'New Zealand': 'Oceania',\n",
    "    'Norway': 'Europe',\n",
    "    'Oman': 'Asia',\n",
    "    'Panama': 'North America',\n",
    "    'Peru': 'South America',\n",
    "    'Poland': 'Europe',\n",
    "    'Portugal': 'Europe',\n",
    "    'Qatar': 'Asia',\n",
    "    'Romania': 'Europe',\n",
    "    'Russian Federation': 'Europe/Asia',\n",
    "    'Saudi Arabia': 'Asia',\n",
    "    'Singapore': 'Asia',\n",
    "    'Slovak Republic': 'Europe',\n",
    "    'South Africa': 'Africa',\n",
    "    'Spain': 'Europe',\n",
    "    'Sweden': 'Europe',\n",
    "    'Switzerland': 'Europe',\n",
    "    'Tanzania': 'Africa',\n",
    "    'Thailand': 'Asia',\n",
    "    'Turkey': 'Asia/Europe',\n",
    "    'United Arab Emirates': 'Asia',\n",
    "    'Uganda': 'Africa',\n",
    "    'United Kingdom': 'Europe',\n",
    "    'Ukraine': 'Europe',\n",
    "    'United States': 'North America',\n",
    "    'Vietnam': 'Asia',\n",
    "    'Zambia': 'Africa', \n",
    "    'Zimbabwe': 'Africa'\n",
    "}\n",
    "\n",
    "    # Add more countries and their continents\n",
    "# Path to the 'Dataset Kopie' directory\n",
    "dataset_dir = 'Dataset Kopie'\n",
    "\n",
    "# Placeholder for concatenated top 50 DataFrames from each country\n",
    "all_top50 = []\n",
    "\n",
    "# Iterate over each country folder in the dataset directory\n",
    "for country in os.listdir(dataset_dir):\n",
    "    country_path = os.path.join(dataset_dir, country)\n",
    "    \n",
    "    # Check if it's a directory\n",
    "    if os.path.isdir(country_path):\n",
    "        # Paths to the import and export Excel files\n",
    "        import_path = os.path.join(country_path, 'Import.xlsx')\n",
    "        export_path = os.path.join(country_path, 'Export.xlsx')\n",
    "        \n",
    "        # Read the Excel files\n",
    "        df_import = pd.read_excel(import_path , sheet_name='Partner')\n",
    "        df_export = pd.read_excel(export_path , sheet_name='Partner')\n",
    "        \n",
    "        # Inner join on 'Partner Name'\n",
    "        df_joined = pd.merge(df_import, df_export, on='Partner Name', suffixes=('_Import', '_Export'))\n",
    "        \n",
    "        # Calculate 'Total Trade (US$ Thousand)'\n",
    "        df_joined['Total Trade (US$ Thousand)'] = df_joined['Export (US$ Thousand)'] + df_joined['Import (US$ Thousand)']\n",
    "        \n",
    "        \n",
    "        # Select top 50 rows based on 'Total Trade (US$ Thousand)'\n",
    "        top50 = df_joined.nlargest(10, 'Total Trade (US$ Thousand)')\n",
    "        # Converting 'Export (US$ Thousand)' and 'Import (US$ Thousand)' columns from thousand dollars to million dollars and rounding the result\n",
    "        top50['Export'] = df_joined['Export (US$ Thousand)'].apply(lambda x: round(x / 1000000, 3))\n",
    "        top50['Import'] = df_joined['Import (US$ Thousand)'].apply(lambda x: round(x / 1000000, 3))\n",
    "        top50['Source'] = df_joined['Reporter Name_Import']\n",
    "        top50['Target'] = df_joined['Partner Name']\n",
    "\n",
    "        top50= top50[['Source', 'Target', 'Import', 'Export']]\n",
    "        # Keep only the rows where 'Target' value is present in the 'Source' column values\n",
    "       \n",
    "        # Add continent name for each source country\n",
    "        top50['Continent'] = top50['Source'].map(country_to_continent)\n",
    "        \n",
    "        # Append to the list\n",
    "        all_top50.append(top50)\n",
    "\n",
    "# Concatenate all top k DataFrames\n",
    "final_df = pd.concat(all_top50)\n",
    "final_df = final_df[final_df['Target'].isin(final_df['Source'])]\n",
    "\n",
    "# Save the final DataFrame to an Excel file\n",
    "final_df.to_csv('all10.csv', index=False)"
   ]
  },
  {
   "cell_type": "code",
   "execution_count": 6,
   "metadata": {},
   "outputs": [
    {
     "data": {
      "text/plain": [
       "array(['Algeria', 'Argentina', 'Australia', 'Austria', 'Bahrain',\n",
       "       'Belarus', 'Belgium', 'Botswana', 'Brazil', 'Bulgaria', 'Canada',\n",
       "       'Chile', 'China', 'Colombia', 'Congo, Rep.', 'Costa Rica',\n",
       "       'Cyprus', 'Czech Republic', 'Denmark', 'Egypt, Arab Rep.',\n",
       "       'Estonia', 'Finland', 'France', 'Germany', 'Greece',\n",
       "       'Hong Kong, China', 'Hungary', 'Iceland', 'India', 'Ireland',\n",
       "       'Israel', 'Italy', 'Japan', 'Kazakhstan', 'Kenya', 'Korea, Rep.',\n",
       "       'Kuwait', 'Lebanon', 'Malaysia', 'Mexico', 'Morocco', 'Mozambique',\n",
       "       'Nepal', 'Netherlands', 'New Zealand', 'Norway', 'Oman', 'Panama',\n",
       "       'Peru', 'Poland', 'Portugal', 'Qatar', 'Romania',\n",
       "       'Russian Federation', 'Saudi Arabia', 'Singapore',\n",
       "       'Slovak Republic', 'South Africa', 'Spain', 'Sweden',\n",
       "       'Switzerland', 'Tanzania', 'Thailand', 'Turkey',\n",
       "       'United Arab Emirates', 'Uganda', 'United Kingdom', 'Ukraine',\n",
       "       'United States', 'Vietnam', 'Zambia', 'Zimbabwe'], dtype=object)"
      ]
     },
     "execution_count": 6,
     "metadata": {},
     "output_type": "execute_result"
    }
   ],
   "source": [
    "final_df['Source'].unique()"
   ]
  },
  {
   "cell_type": "code",
   "execution_count": 7,
   "metadata": {},
   "outputs": [],
   "source": []
  },
  {
   "cell_type": "code",
   "execution_count": null,
   "metadata": {},
   "outputs": [],
   "source": []
  }
 ],
 "metadata": {
  "kernelspec": {
   "display_name": "Python 3",
   "language": "python",
   "name": "python3"
  },
  "language_info": {
   "codemirror_mode": {
    "name": "ipython",
    "version": 3
   },
   "file_extension": ".py",
   "mimetype": "text/x-python",
   "name": "python",
   "nbconvert_exporter": "python",
   "pygments_lexer": "ipython3",
   "version": "3.9.0"
  }
 },
 "nbformat": 4,
 "nbformat_minor": 2
}
